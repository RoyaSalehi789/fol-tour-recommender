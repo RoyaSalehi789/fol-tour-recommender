{
 "cells": [
  {
   "cell_type": "code",
   "execution_count": 71,
   "id": "c4d7050d-03e8-4728-8aa8-90ddd6765f75",
   "metadata": {
    "pycharm": {
     "name": "#%%\n"
    }
   },
   "outputs": [],
   "source": [
    "import sys\n",
    "import tkinter\n",
    "import tkinter.messagebox\n",
    "from tkintermapview import TkinterMapView\n",
    "from pyswip import Prolog\n",
    "import pandas as pd"
   ]
  },
  {
   "cell_type": "code",
   "execution_count": 72,
   "id": "39567d96-fc08-4b3d-8536-f35c6d2a32ae",
   "metadata": {
    "pycharm": {
     "name": "#%%\n"
    }
   },
   "outputs": [],
   "source": [
    "df = pd.read_csv('Destinations.csv')"
   ]
  },
  {
   "cell_type": "code",
   "execution_count": 73,
   "id": "355f8f70-f25b-48d5-9e78-72101545fd3b",
   "metadata": {
    "pycharm": {
     "name": "#%%\n"
    }
   },
   "outputs": [
    {
     "data": {
      "text/html": [
       "<div>\n",
       "<style scoped>\n",
       "    .dataframe tbody tr th:only-of-type {\n",
       "        vertical-align: middle;\n",
       "    }\n",
       "\n",
       "    .dataframe tbody tr th {\n",
       "        vertical-align: top;\n",
       "    }\n",
       "\n",
       "    .dataframe thead th {\n",
       "        text-align: right;\n",
       "    }\n",
       "</style>\n",
       "<table border=\"1\" class=\"dataframe\">\n",
       "  <thead>\n",
       "    <tr style=\"text-align: right;\">\n",
       "      <th></th>\n",
       "      <th>Destinations</th>\n",
       "      <th>country</th>\n",
       "      <th>region</th>\n",
       "      <th>Climate</th>\n",
       "      <th>Budget</th>\n",
       "      <th>Activity</th>\n",
       "      <th>Demographics</th>\n",
       "      <th>Duration</th>\n",
       "      <th>Cuisine</th>\n",
       "      <th>History</th>\n",
       "      <th>Natural Wonder</th>\n",
       "      <th>Accommodation</th>\n",
       "      <th>Language</th>\n",
       "    </tr>\n",
       "  </thead>\n",
       "  <tbody>\n",
       "    <tr>\n",
       "      <th>0</th>\n",
       "      <td>Tokyo</td>\n",
       "      <td>Japan</td>\n",
       "      <td>East Asia</td>\n",
       "      <td>Temperate</td>\n",
       "      <td>High</td>\n",
       "      <td>Cultural</td>\n",
       "      <td>Solo</td>\n",
       "      <td>Long</td>\n",
       "      <td>Asian</td>\n",
       "      <td>Modern</td>\n",
       "      <td>Mountains</td>\n",
       "      <td>Luxury</td>\n",
       "      <td>Japanese</td>\n",
       "    </tr>\n",
       "    <tr>\n",
       "      <th>1</th>\n",
       "      <td>Ottawa</td>\n",
       "      <td>Canada</td>\n",
       "      <td>North America</td>\n",
       "      <td>Cold</td>\n",
       "      <td>Medium</td>\n",
       "      <td>Adventure</td>\n",
       "      <td>Family-friendly</td>\n",
       "      <td>Medium</td>\n",
       "      <td>European</td>\n",
       "      <td>Modern</td>\n",
       "      <td>Forests</td>\n",
       "      <td>Mid-range</td>\n",
       "      <td>English</td>\n",
       "    </tr>\n",
       "    <tr>\n",
       "      <th>2</th>\n",
       "      <td>Mexico City</td>\n",
       "      <td>Mexico</td>\n",
       "      <td>North America</td>\n",
       "      <td>Temperate</td>\n",
       "      <td>Low</td>\n",
       "      <td>Cultural</td>\n",
       "      <td>Senior</td>\n",
       "      <td>Short</td>\n",
       "      <td>Latin American</td>\n",
       "      <td>Ancient</td>\n",
       "      <td>Mountains</td>\n",
       "      <td>Budget</td>\n",
       "      <td>Spanish</td>\n",
       "    </tr>\n",
       "    <tr>\n",
       "      <th>3</th>\n",
       "      <td>Rome</td>\n",
       "      <td>Italy</td>\n",
       "      <td>Southern Europe</td>\n",
       "      <td>Temperate</td>\n",
       "      <td>High</td>\n",
       "      <td>Cultural</td>\n",
       "      <td>Solo</td>\n",
       "      <td>Medium</td>\n",
       "      <td>European</td>\n",
       "      <td>Ancient</td>\n",
       "      <td>Beaches</td>\n",
       "      <td>Luxury</td>\n",
       "      <td>Italian</td>\n",
       "    </tr>\n",
       "    <tr>\n",
       "      <th>4</th>\n",
       "      <td>Brasilia</td>\n",
       "      <td>Brazil</td>\n",
       "      <td>South America</td>\n",
       "      <td>Tropical</td>\n",
       "      <td>Low</td>\n",
       "      <td>Adventure</td>\n",
       "      <td>Family-friendly</td>\n",
       "      <td>Long</td>\n",
       "      <td>Latin American</td>\n",
       "      <td>Modern</td>\n",
       "      <td>Beaches</td>\n",
       "      <td>Budget</td>\n",
       "      <td>Portuguese</td>\n",
       "    </tr>\n",
       "    <tr>\n",
       "      <th>...</th>\n",
       "      <td>...</td>\n",
       "      <td>...</td>\n",
       "      <td>...</td>\n",
       "      <td>...</td>\n",
       "      <td>...</td>\n",
       "      <td>...</td>\n",
       "      <td>...</td>\n",
       "      <td>...</td>\n",
       "      <td>...</td>\n",
       "      <td>...</td>\n",
       "      <td>...</td>\n",
       "      <td>...</td>\n",
       "      <td>...</td>\n",
       "    </tr>\n",
       "    <tr>\n",
       "      <th>97</th>\n",
       "      <td>Luxor</td>\n",
       "      <td>Egypt</td>\n",
       "      <td>North Africa</td>\n",
       "      <td>Desert</td>\n",
       "      <td>Low</td>\n",
       "      <td>Cultural</td>\n",
       "      <td>Solo</td>\n",
       "      <td>Short</td>\n",
       "      <td>Middle Eastern</td>\n",
       "      <td>Ancient</td>\n",
       "      <td>Rivers</td>\n",
       "      <td>Budget</td>\n",
       "      <td>Arabic</td>\n",
       "    </tr>\n",
       "    <tr>\n",
       "      <th>98</th>\n",
       "      <td>Aswan</td>\n",
       "      <td>Egypt</td>\n",
       "      <td>North Africa</td>\n",
       "      <td>Desert</td>\n",
       "      <td>Low</td>\n",
       "      <td>Cultural</td>\n",
       "      <td>Solo</td>\n",
       "      <td>Short</td>\n",
       "      <td>Middle Eastern</td>\n",
       "      <td>Ancient</td>\n",
       "      <td>Rivers</td>\n",
       "      <td>Budget</td>\n",
       "      <td>Arabic</td>\n",
       "    </tr>\n",
       "    <tr>\n",
       "      <th>99</th>\n",
       "      <td>Christchurch</td>\n",
       "      <td>New Zealand</td>\n",
       "      <td>Oceania</td>\n",
       "      <td>Temperate</td>\n",
       "      <td>Medium</td>\n",
       "      <td>Adventure</td>\n",
       "      <td>Family-friendly</td>\n",
       "      <td>Medium</td>\n",
       "      <td>Western</td>\n",
       "      <td>Modern</td>\n",
       "      <td>Cityscape</td>\n",
       "      <td>Mid-range</td>\n",
       "      <td>English</td>\n",
       "    </tr>\n",
       "    <tr>\n",
       "      <th>100</th>\n",
       "      <td>Queenstown</td>\n",
       "      <td>New Zealand</td>\n",
       "      <td>Oceania</td>\n",
       "      <td>Temperate</td>\n",
       "      <td>High</td>\n",
       "      <td>Adventure</td>\n",
       "      <td>Solo</td>\n",
       "      <td>Short</td>\n",
       "      <td>Western</td>\n",
       "      <td>Modern</td>\n",
       "      <td>Mountains</td>\n",
       "      <td>Luxury</td>\n",
       "      <td>English</td>\n",
       "    </tr>\n",
       "    <tr>\n",
       "      <th>101</th>\n",
       "      <td>Rotorua</td>\n",
       "      <td>New Zealand</td>\n",
       "      <td>Oceania</td>\n",
       "      <td>Temperate</td>\n",
       "      <td>Medium</td>\n",
       "      <td>Cultural</td>\n",
       "      <td>Family-friendly</td>\n",
       "      <td>Short</td>\n",
       "      <td>Western</td>\n",
       "      <td>Modern</td>\n",
       "      <td>Geothermal</td>\n",
       "      <td>Mid-range</td>\n",
       "      <td>English</td>\n",
       "    </tr>\n",
       "  </tbody>\n",
       "</table>\n",
       "<p>102 rows × 13 columns</p>\n",
       "</div>"
      ],
      "text/plain": [
       "     Destinations      country           region    Climate  Budget   Activity  \\\n",
       "0           Tokyo        Japan        East Asia  Temperate    High   Cultural   \n",
       "1          Ottawa       Canada    North America       Cold  Medium  Adventure   \n",
       "2     Mexico City       Mexico    North America  Temperate     Low   Cultural   \n",
       "3            Rome        Italy  Southern Europe  Temperate    High   Cultural   \n",
       "4        Brasilia       Brazil    South America   Tropical     Low  Adventure   \n",
       "..            ...          ...              ...        ...     ...        ...   \n",
       "97          Luxor        Egypt     North Africa     Desert     Low   Cultural   \n",
       "98          Aswan        Egypt     North Africa     Desert     Low   Cultural   \n",
       "99   Christchurch  New Zealand          Oceania  Temperate  Medium  Adventure   \n",
       "100    Queenstown  New Zealand          Oceania  Temperate    High  Adventure   \n",
       "101       Rotorua  New Zealand          Oceania  Temperate  Medium   Cultural   \n",
       "\n",
       "        Demographics Duration         Cuisine  History Natural Wonder  \\\n",
       "0               Solo     Long           Asian   Modern      Mountains   \n",
       "1    Family-friendly   Medium        European   Modern        Forests   \n",
       "2             Senior    Short  Latin American  Ancient      Mountains   \n",
       "3               Solo   Medium        European  Ancient        Beaches   \n",
       "4    Family-friendly     Long  Latin American   Modern        Beaches   \n",
       "..               ...      ...             ...      ...            ...   \n",
       "97              Solo    Short  Middle Eastern  Ancient         Rivers   \n",
       "98              Solo    Short  Middle Eastern  Ancient         Rivers   \n",
       "99   Family-friendly   Medium         Western   Modern      Cityscape   \n",
       "100             Solo    Short         Western   Modern      Mountains   \n",
       "101  Family-friendly    Short         Western   Modern     Geothermal   \n",
       "\n",
       "    Accommodation    Language  \n",
       "0          Luxury    Japanese  \n",
       "1       Mid-range     English  \n",
       "2          Budget     Spanish  \n",
       "3          Luxury     Italian  \n",
       "4          Budget  Portuguese  \n",
       "..            ...         ...  \n",
       "97         Budget      Arabic  \n",
       "98         Budget      Arabic  \n",
       "99      Mid-range     English  \n",
       "100        Luxury     English  \n",
       "101     Mid-range     English  \n",
       "\n",
       "[102 rows x 13 columns]"
      ]
     },
     "execution_count": 73,
     "metadata": {},
     "output_type": "execute_result"
    }
   ],
   "source": [
    "df"
   ]
  },
  {
   "cell_type": "code",
   "execution_count": null,
   "outputs": [],
   "source": [
    "country_set = set(df['country'].tolist())\n",
    "region_set = set(df['region'].tolist())\n",
    "climate_set = set(df['Climate'].tolist())\n",
    "budget_set = set(df['Budget'].tolist())\n",
    "activity_set = set(df['Activity'].tolist())\n",
    "demographics_set = set(df['Demographics'].tolist())\n",
    "duration_set = set(df['Duration'].tolist())\n",
    "cuisine_set = set(df['Cuisine'].tolist())\n",
    "history_set = set(df['History'].tolist())\n",
    "natural_wonder_set = set(df['Natural Wonder'].tolist())\n",
    "accommodation_set = set(df['Accommodation'].tolist())\n",
    "language_set = set(df['Language'].tolist())"
   ],
   "metadata": {
    "collapsed": false,
    "pycharm": {
     "name": "#%%\n"
    }
   }
  },
  {
   "cell_type": "code",
   "execution_count": null,
   "outputs": [],
   "source": [
    "country = pd.DataFrame(df, columns=[\"Destinations\", \"country\"])\n",
    "region = pd.DataFrame(df, columns=[\"Destinations\", \"region\"])\n",
    "climate = pd.DataFrame(df, columns=[\"Destinations\", \"Climate\"])\n",
    "budget = pd.DataFrame(df, columns=[\"Destinations\", \"Budget\"])\n",
    "activity = pd.DataFrame(df, columns=[\"Destinations\", \"Activity\"])\n",
    "demographics = pd.DataFrame(df, columns=[\"Destinations\", \"Demographics\"])\n",
    "duration = pd.DataFrame(df, columns=[\"Destinations\", \"Duration\"])\n",
    "cuisine = pd.DataFrame(df, columns=[\"Destinations\", \"Cuisine\"])\n",
    "history = pd.DataFrame(df, columns=[\"Destinations\", \"History\"])\n",
    "natural_wonder = pd.DataFrame(df, columns=[\"Destinations\", \"Natural Wonder\"])\n",
    "accommodation = pd.DataFrame(df, columns=[\"Destinations\", \"Accommodation\"])\n",
    "language = pd.DataFrame(df, columns=[\"Destinations\", \"Language\"])"
   ],
   "metadata": {
    "collapsed": false,
    "pycharm": {
     "name": "#%%\n"
    }
   }
  },
  {
   "cell_type": "code",
   "execution_count": null,
   "outputs": [],
   "source": [
    "prolog = Prolog()\n",
    "\n",
    "prolog.retractall(\"country(_,_)\")\n",
    "prolog.retractall(\"region(_,_)\")\n",
    "prolog.retractall(\"climate(_,_)\")\n",
    "prolog.retractall(\"budget(_,_)\")\n",
    "prolog.retractall(\"activity(_,_)\")\n",
    "prolog.retractall(\"demographics(_,_)\")\n",
    "prolog.retractall(\"duration(_,_)\")\n",
    "prolog.retractall(\"cuisine(_,_)\")\n",
    "prolog.retractall(\"history(_,_)\")\n",
    "prolog.retractall(\"natural_wonder(_,_)\")\n",
    "prolog.retractall(\"accommodation(_,_)\")\n",
    "prolog.retractall(\"language(_,_)\")"
   ],
   "metadata": {
    "collapsed": false,
    "pycharm": {
     "name": "#%%\n"
    }
   }
  },
  {
   "cell_type": "code",
   "execution_count": null,
   "outputs": [],
   "source": [
    "country"
   ],
   "metadata": {
    "collapsed": false,
    "pycharm": {
     "name": "#%%\n"
    }
   }
  },
  {
   "cell_type": "code",
   "execution_count": null,
   "outputs": [],
   "source": [
    "def dfToStr (df, interpretation):\n",
    "    prefix =  interpretation + \"(\"\n",
    "    suffix = \")\"\n",
    "    final_str_list = []\n",
    "    for i in range (df.shape[0]):\n",
    "        a = []\n",
    "        a = df.loc[i].tolist()\n",
    "        a[0] = chr(34) + a[0] + chr(34)\n",
    "        row_values_str = a[0].lower().replace(\" \", \"_\") + ', ' + a[1].lower().replace(\" \", \"_\")\n",
    "        finalStr = prefix + row_values_str + suffix\n",
    "        final_str_list.append(finalStr)\n",
    "\n",
    "    return final_str_list"
   ],
   "metadata": {
    "collapsed": false,
    "pycharm": {
     "name": "#%%\n"
    }
   }
  },
  {
   "cell_type": "code",
   "execution_count": null,
   "outputs": [],
   "source": [
    "def add_kb(syntax_list):\n",
    "    for i in range(len(syntax_list)):\n",
    "        prolog.assertz(syntax_list[i])"
   ],
   "metadata": {
    "collapsed": false,
    "pycharm": {
     "name": "#%%\n"
    }
   }
  },
  {
   "cell_type": "code",
   "execution_count": null,
   "outputs": [],
   "source": [
    "add_kb(dfToStr(country, \"country\"))\n",
    "add_kb(dfToStr(region, \"region\"))\n",
    "add_kb(dfToStr(climate, \"climate\"))\n",
    "add_kb(dfToStr(activity, \"activity\"))\n",
    "add_kb(dfToStr(demographics, \"demographics\"))\n",
    "add_kb(dfToStr(budget, \"budget\"))\n",
    "add_kb(dfToStr(duration, \"duration\"))\n",
    "add_kb(dfToStr(cuisine, \"cuisine\"))\n",
    "add_kb(dfToStr(history, \"history\"))\n",
    "add_kb(dfToStr(natural_wonder, \"natural_wonder\"))\n",
    "add_kb(dfToStr(accommodation, \"accommodation\"))\n",
    "add_kb(dfToStr(language, \"language\"))"
   ],
   "metadata": {
    "collapsed": false,
    "pycharm": {
     "name": "#%%\n"
    }
   }
  },
  {
   "cell_type": "code",
   "execution_count": null,
   "outputs": [],
   "source": [
    "query = \"language(City, portuguese)\"\n",
    "results = list(prolog.query(query))\n",
    "for result in results:\n",
    "    print(result[\"City\"])"
   ],
   "metadata": {
    "collapsed": false,
    "pycharm": {
     "name": "#%%\n"
    }
   }
  }
 ],
 "metadata": {
  "kernelspec": {
   "display_name": "Python 3 (ipykernel)",
   "language": "python",
   "name": "python3"
  },
  "language_info": {
   "codemirror_mode": {
    "name": "ipython",
    "version": 3
   },
   "file_extension": ".py",
   "mimetype": "text/x-python",
   "name": "python",
   "nbconvert_exporter": "python",
   "pygments_lexer": "ipython3",
   "version": "3.11.5"
  }
 },
 "nbformat": 4,
 "nbformat_minor": 5
}